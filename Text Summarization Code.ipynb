{
 "cells": [
  {
   "cell_type": "code",
   "execution_count": 1,
   "metadata": {},
   "outputs": [],
   "source": [
    "# Importing Libraries\n",
    "import re\n",
    "# Importing Spacy English Library\n",
    "import en_core_web_md\n",
    "# Importing Spacy\n",
    "import spacy\n",
    "# Importing Stop Words\n",
    "from spacy.lang.en.stop_words import STOP_WORDS\n",
    "# Importing Count Vectorizer from SKLEARN\n",
    "from sklearn.feature_extraction.text import CountVectorizer"
   ]
  },
  {
   "cell_type": "code",
   "execution_count": 2,
   "metadata": {},
   "outputs": [],
   "source": [
    "# Opening File\n",
    "file = open('input_text.txt','r',encoding = 'utf-8')\n",
    "# Reading File Contents\n",
    "file_lines = file.readlines()\n",
    "# Closing Connection to File\n",
    "file.close()"
   ]
  },
  {
   "cell_type": "code",
   "execution_count": 3,
   "metadata": {},
   "outputs": [
    {
     "data": {
      "text/plain": [
       "['The earliest reports of an illness caused by a coronavirus occurred in the late 1920s, when an acute respiratory infection of domesticated chickens emerged in North America.[15][16] Arthur Schalk and M.C. Hawn in 1931 made the first detailed report which described a new respiratory infection of chickens in North Dakota. The infection of new-born chicks was characterized by gasping and listlessness with high mortality rates of 40–90%.[17] Leland David Bushnell and Carl Alfred Brandly isolated the virus in 1933.[18] The virus was then known as infectious bronchitis virus (IBV). Charles D. Hudson and Fred Robert Beaudette cultivated the virus for the first time in 1937.[19] The specimen came to be known as the Beaudette strain. In the late 1940s, two more animal coronaviruses, JHM that causes brain disease (murine encephalitis) and mouse hepatitis virus (MHV) that causes hepatitis in mice were discovered.[20] It was not realized at the time that these three different viruses were related.[21]\\n',\n",
       " 'Human coronaviruses were discovered in the 1960s[22][23] using two different methods in the United Kingdom and the United States.[24] E.C. Kendall, Malcolm Bynoe, and David Tyrrell working at the Common Cold Unit of the British Medical Research Council collected a unique common cold virus designated B814 in 1961.[25][26][27] The virus could not be cultivated using standard techniques which had successfully cultivated rhinoviruses, adenoviruses and other known common cold viruses. In 1965, Tyrrell and Bynoe successfully cultivated the novel virus by serially passing it through organ culture of human embryonic trachea.[28] The new cultivating method was introduced to the lab by Bertil Hoorn.[29] The isolated virus when intranasally inoculated into volunteers caused a cold and was inactivated by ether which indicated it had a lipid envelope.[25][30] Dorothy Hamre[31] and John Procknow at the University of Chicago isolated a novel cold from medical students in 1962. They isolated and grew the virus in kidney tissue culture, assigning it as 229E. The novel virus caused a cold in volunteers and was inactivated by ether similarly as B814.[32] \\n',\n",
       " 'Scottish virologist June Almeida at St. Thomas Hospital in London, collaborating with Tyrrell, compared the structures of IBV, B814 and 229E in 1967.[33][34] Using electron microscopy the three viruses were shown to be morphologically related by their general shape and distinctive club-like spikes.[35] A research group at the National Institute of Health the same year was able to isolate another member of this new group of viruses using organ culture and named one of the samples OC43 (OC for organ culture).[36] Like B814, 229E, and IBV, the novel cold virus OC43 had distinctive club-like spikes when observed with the electron microscope.[37][38]\\n',\n",
       " 'The IBV-like novel cold viruses were soon shown to be also morphologically related to the mouse hepatitis virus.[20] This new group of viruses were named coronaviruses after their distinctive morphological appearance.[10] Human coronavirus 229E and human coronavirus OC43 continued to be studied in subsequent decades.[39][40] The coronavirus strain B814 was lost. It is not known which present human coronavirus it was.[41] Other human coronaviruses have since been identified, including SARS-CoV in 2003, HCoV NL63 in 2003, HCoV HKU1 in 2004, MERS-CoV in 2013, and SARS-CoV-2 in 2020.[42][43] There have also been a large number of animal coronaviruses identified since the 1960s.[6] ']"
      ]
     },
     "execution_count": 3,
     "metadata": {},
     "output_type": "execute_result"
    }
   ],
   "source": [
    "file_lines"
   ]
  },
  {
   "cell_type": "code",
   "execution_count": 4,
   "metadata": {},
   "outputs": [
    {
     "name": "stderr",
     "output_type": "stream",
     "text": [
      "D:\\anaconda3\\envs\\NLPEnv\\lib\\site-packages\\ipykernel_launcher.py:9: FutureWarning: Possible nested set at position 1\n",
      "  if __name__ == '__main__':\n"
     ]
    }
   ],
   "source": [
    "index = 0\n",
    "# Cleaning The File Content Line By Line\n",
    "while index < len(file_lines):\n",
    "    if file_lines[index] == '\\n':\n",
    "        file_lines.pop(index)\n",
    "        continue\n",
    "        \n",
    "    # RE To Remove [] Wikipedia Annotations & New Line Special Character\n",
    "    file_lines[index] = re.sub('[[0-9]+]','',file_lines[index]).replace('\\n','').strip()\n",
    "    index = index + 1\n",
    "# Combining Seperate Lines into Single Paragraph\n",
    "paragraph = ''.join(file_lines)"
   ]
  },
  {
   "cell_type": "code",
   "execution_count": 5,
   "metadata": {},
   "outputs": [],
   "source": [
    "# Loading the Spacy English MD Library\n",
    "nlp = en_core_web_md.load()\n",
    "# Creating Spacy Doc\n",
    "doc = nlp(paragraph)"
   ]
  },
  {
   "cell_type": "code",
   "execution_count": 6,
   "metadata": {},
   "outputs": [
    {
     "name": "stdout",
     "output_type": "stream",
     "text": [
      "Number of Sentences in Corpus : 30\n"
     ]
    }
   ],
   "source": [
    "# Building Corpus\n",
    "corpus = []\n",
    "\n",
    "for s in doc.sents:\n",
    "    corpus.append(s.text.lower())\n",
    "print('Number of Sentences in Corpus : ' + str(len(corpus)))"
   ]
  },
  {
   "cell_type": "code",
   "execution_count": 7,
   "metadata": {},
   "outputs": [],
   "source": [
    "# Applying Count Vectorizer To Corpus\n",
    "cv = CountVectorizer(stop_words=list(STOP_WORDS))\n",
    "cv_fit = cv.fit_transform(corpus)"
   ]
  },
  {
   "cell_type": "code",
   "execution_count": 8,
   "metadata": {},
   "outputs": [],
   "source": [
    "# Getting Word List from Count Vectorizer\n",
    "word_list = cv.get_feature_names()\n",
    "\n",
    "# Getting Sum of Word Occurences\n",
    "word_counts = cv_fit.toarray().sum(axis=0)\n",
    "\n",
    "# Creating Dictionary for Words and Occurences\n",
    "word_freq_dict = dict(zip(word_list, word_counts))"
   ]
  },
  {
   "cell_type": "code",
   "execution_count": 9,
   "metadata": {},
   "outputs": [],
   "source": [
    "# Sorting Word Counts in Descending Order\n",
    "sort_word_counts = sorted(word_freq_dict.values(), reverse=True)\n",
    "# Getting Higher Freqeuncy Words\n",
    "higher_frequency_words = []\n",
    "# Words With Top 5 Frequency are considered as Higher Frequency Words\n",
    "for word, freq in word_freq_dict.items():\n",
    "    if freq in sort_word_counts[0:5]:\n",
    "        higher_frequency_words.append(word)"
   ]
  },
  {
   "cell_type": "code",
   "execution_count": 10,
   "metadata": {},
   "outputs": [
    {
     "name": "stdout",
     "output_type": "stream",
     "text": [
      "Most Frequently Occurring Words In Text\n",
      "b814\n",
      "cold\n",
      "coronavirus\n",
      "coronaviruses\n",
      "human\n",
      "new\n",
      "novel\n",
      "virus\n",
      "viruses\n"
     ]
    }
   ],
   "source": [
    "print('Most Frequently Occurring Words In Text')\n",
    "for word in higher_frequency_words:\n",
    "    print(word)"
   ]
  },
  {
   "cell_type": "code",
   "execution_count": 11,
   "metadata": {},
   "outputs": [],
   "source": [
    "# Scaling The Frequency Of Words With Relative To Highest Frequency\n",
    "for word in word_freq_dict.keys():\n",
    "    word_freq_dict[word] = word_freq_dict[word]/sort_word_counts[0]"
   ]
  },
  {
   "cell_type": "code",
   "execution_count": 12,
   "metadata": {},
   "outputs": [],
   "source": [
    "# Assigning Ranks To Sentences\n",
    "sentence_ranks = {}\n",
    "\n",
    "for sentence in doc.sents:\n",
    "    for word in sentence:\n",
    "        if word.text.lower() in word_freq_dict.keys():\n",
    "            if sentence in sentence_ranks.keys():\n",
    "                sentence_ranks[sentence] += word_freq_dict[word.text.lower()]\n",
    "            else:\n",
    "                sentence_ranks[sentence] = word_freq_dict[word.text.lower()]\n",
    "\n",
    "# Sorting Sentences According To Ranks\n",
    "sorted_sentences = sorted(sentence_ranks.items(), key=lambda x: x[1], reverse=True)"
   ]
  },
  {
   "cell_type": "code",
   "execution_count": 13,
   "metadata": {},
   "outputs": [],
   "source": [
    "number_of_sentences = 10\n",
    "final_para = \"\"\n",
    "\n",
    "for i in range(0, number_of_sentences):\n",
    "    sentence_tuple = sorted_sentences[i]\n",
    "    final_para = final_para + sentence_tuple[0].text"
   ]
  },
  {
   "cell_type": "code",
   "execution_count": 14,
   "metadata": {},
   "outputs": [
    {
     "data": {
      "text/plain": [
       "'The novel virus caused a cold in volunteers and was inactivated by ether similarly as B814.Scottish virologist June Almeida at St. Thomas Hospital in London, collaborating with Tyrrell, compared the structures of IBV, B814 and 229E in 1967.E.C. Kendall, Malcolm Bynoe, and David Tyrrell working at the Common Cold Unit of the British Medical Research Council collected a unique common cold virus designated B814 in 1961.The IBV-like novel cold viruses were soon shown to be also morphologically related to the mouse hepatitis virus.The virus could not be cultivated using standard techniques which had successfully cultivated rhinoviruses, adenoviruses and other known common cold viruses.In 1965, Tyrrell and Bynoe successfully cultivated the novel virus by serially passing it through organ culture of human embryonic trachea.the novel cold virus OC43 had distinctive club-like spikes when observed with the electron microscope.In the late 1940s, two more animal coronaviruses, JHM that causes brain disease (murine encephalitis) and mouse hepatitis virus (MHV) that causes hepatitis in mice were discovered.The isolated virus when intranasally inoculated into volunteers caused a cold and was inactivated by ether which indicated it had a lipid envelope.A research group at the National Institute of Health the same year was able to isolate another member of this new group of viruses using organ culture and named one of the samples OC43Other human coronaviruses have since been identified, including SARS-CoV in 2003, HCoV NL63 in 2003, HCoV HKU1 in 2004, MERS-CoV in 2013, and SARS-CoV-2 in 2020.'"
      ]
     },
     "execution_count": 14,
     "metadata": {},
     "output_type": "execute_result"
    }
   ],
   "source": [
    "final_para"
   ]
  },
  {
   "cell_type": "code",
   "execution_count": null,
   "metadata": {},
   "outputs": [],
   "source": []
  }
 ],
 "metadata": {
  "kernelspec": {
   "display_name": "Python 3",
   "language": "python",
   "name": "python3"
  },
  "language_info": {
   "codemirror_mode": {
    "name": "ipython",
    "version": 3
   },
   "file_extension": ".py",
   "mimetype": "text/x-python",
   "name": "python",
   "nbconvert_exporter": "python",
   "pygments_lexer": "ipython3",
   "version": "3.7.7"
  }
 },
 "nbformat": 4,
 "nbformat_minor": 4
}
