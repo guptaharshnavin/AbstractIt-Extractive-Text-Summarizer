{
 "cells": [
  {
   "cell_type": "markdown",
   "metadata": {},
   "source": [
    "# AbstractIt - Extractive Text Summarizer\n",
    "## Github Repository Link: https://github.com/guptaharshnavin/AbstractIt-Extractive-Text-Summarizer "
   ]
  },
  {
   "cell_type": "markdown",
   "metadata": {},
   "source": [
    "## Problem Statement\n",
    "#### Development of a Text Summarizer using Extractive Text Summarization technique."
   ]
  },
  {
   "cell_type": "markdown",
   "metadata": {},
   "source": [
    "## Importing Libraries"
   ]
  },
  {
   "cell_type": "code",
   "execution_count": 1,
   "metadata": {},
   "outputs": [],
   "source": [
    "import re\n",
    "# Importing Spacy English Library\n",
    "import en_core_web_md\n",
    "# Importing Spacy\n",
    "import spacy\n",
    "# Importing Stop Words\n",
    "from spacy.lang.en.stop_words import STOP_WORDS\n",
    "# Importing Count Vectorizer from SKLEARN\n",
    "from sklearn.feature_extraction.text import CountVectorizer\n",
    "# Import Rouge Scorer\n",
    "from rouge_score import rouge_scorer"
   ]
  },
  {
   "cell_type": "markdown",
   "metadata": {},
   "source": [
    "## Reading Text to be Summarised"
   ]
  },
  {
   "cell_type": "code",
   "execution_count": 2,
   "metadata": {},
   "outputs": [],
   "source": [
    "# Opening File\n",
    "file = open('input_text.txt','r',encoding = 'utf-8')\n",
    "# Reading File Contents\n",
    "file_lines = file.readlines()\n",
    "# Closing Connection to File\n",
    "file.close()"
   ]
  },
  {
   "cell_type": "code",
   "execution_count": 3,
   "metadata": {},
   "outputs": [
    {
     "data": {
      "text/plain": [
       "[\"A virus is a submicroscopic infectious agent that replicates only inside the living cells of an organism.[1] Viruses infect all types of life forms, from animals and plants to microorganisms, including bacteria and archaea.[2] Since Dmitri Ivanovsky's 1892 article describing a non-bacterial pathogen infecting tobacco plants and the discovery of the tobacco mosaic virus by Martinus Beijerinck in 1898,[3] more than 6,000 virus species have been described in detail[4] of the millions of types of viruses in the environment.[5] Viruses are found in almost every ecosystem on Earth and are the most numerous type of biological entity.[6][7] The study of viruses is known as virology, a subspeciality of microbiology.\\n\",\n",
       " '\\n',\n",
       " 'When infected, a host cell is forced to rapidly produce thousands of identical copies of the original virus. When not inside an infected cell or in the process of infecting a cell, viruses exist in the form of independent particles, or virions, consisting of: (i) the genetic material, i.e., long molecules of DNA or RNA that encode the structure of the proteins by which the virus acts; (ii) a protein coat, the capsid, which surrounds and protects the genetic material; and in some cases (iii) an outside envelope of lipids. The shapes of these virus particles range from simple helical and icosahedral forms to more complex structures. Most virus species have virions too small to be seen with an optical microscope, as they are one-hundredth the size of most bacteria.\\n',\n",
       " '\\n',\n",
       " 'The origins of viruses in the evolutionary history of life are unclear: some may have evolved from plasmids—pieces of DNA that can move between cells—while others may have evolved from bacteria. In evolution, viruses are an important means of horizontal gene transfer, which increases genetic diversity in a way analogous to sexual reproduction.[8] Viruses are considered by some biologists to be a life form, because they carry genetic material, reproduce, and evolve through natural selection, although they lack the key characteristics, such as cell structure, that are generally considered necessary criteria for life. Because they possess some but not all such qualities, viruses have been described as \"organisms at the edge of life\",[9] and as self-replicators.[10]\\n',\n",
       " '\\n',\n",
       " 'Viruses spread in many ways. One transmission pathway is through disease-bearing organisms known as vectors: for example, viruses are often transmitted from plant to plant by insects that feed on plant sap, such as aphids; and viruses in animals can be carried by blood-sucking insects. Influenza viruses are spread by coughing and sneezing. Norovirus and rotavirus, common causes of viral gastroenteritis, are transmitted by the faecal–oral route, passed by hand-to-mouth contact or in food or water. The infectious dose of norovirus required to produce infection in humans is less than 100 particles.[11] HIV is one of several viruses transmitted through sexual contact and by exposure to infected blood. The variety of host cells that a virus can infect is called its \"host range\". This can be narrow, meaning a virus is capable of infecting few species, or broad, meaning it is capable of infecting many.[12]\\n',\n",
       " '\\n',\n",
       " 'Viral infections in animals provoke an immune response that usually eliminates the infecting virus. Immune responses can also be produced by vaccines, which confer an artificially acquired immunity to the specific viral infection. Some viruses, including those that cause AIDS, HPV infection, and viral hepatitis, evade these immune responses and result in chronic infections. Several antiviral drugs have been developed. ']"
      ]
     },
     "execution_count": 3,
     "metadata": {},
     "output_type": "execute_result"
    }
   ],
   "source": [
    "file_lines"
   ]
  },
  {
   "cell_type": "markdown",
   "metadata": {},
   "source": [
    "## Input Text Preprocessing\n",
    "The application is aimed for summarization of **Wikipedia Articles**, which include special characters in the form of annotations ([1]), and also may contain multiple blank lines and \\n characters at the end of each line. Thus, these annotations, blank lines and \\n is removed in this step."
   ]
  },
  {
   "cell_type": "code",
   "execution_count": 4,
   "metadata": {},
   "outputs": [
    {
     "name": "stderr",
     "output_type": "stream",
     "text": [
      "D:\\anaconda3\\envs\\NLPEnv\\lib\\site-packages\\ipykernel_launcher.py:9: FutureWarning: Possible nested set at position 1\n",
      "  if __name__ == '__main__':\n"
     ]
    }
   ],
   "source": [
    "index = 0\n",
    "# Cleaning The File Content Line By Line\n",
    "while index < len(file_lines):\n",
    "    if file_lines[index] == '\\n':\n",
    "        file_lines.pop(index)\n",
    "        continue\n",
    "        \n",
    "    # RE To Remove [] Wikipedia Annotations & New Line Special Character\n",
    "    file_lines[index] = re.sub('[[0-9]+]','',file_lines[index]).replace('\\n','').strip()\n",
    "    index = index + 1\n",
    "# Combining Seperate Lines into Single Paragraph\n",
    "paragraph = ''.join(file_lines)"
   ]
  },
  {
   "cell_type": "code",
   "execution_count": 5,
   "metadata": {},
   "outputs": [],
   "source": [
    "# Loading the Spacy English MD Library\n",
    "nlp = en_core_web_md.load()\n",
    "# Creating Spacy Doc\n",
    "doc = nlp(paragraph)"
   ]
  },
  {
   "cell_type": "markdown",
   "metadata": {},
   "source": [
    "## Generating Corpus\n",
    "In this section, the entire input text is stored as a list of sentences, which are converted into Lowercase format."
   ]
  },
  {
   "cell_type": "code",
   "execution_count": 6,
   "metadata": {},
   "outputs": [
    {
     "name": "stdout",
     "output_type": "stream",
     "text": [
      "Number of Sentences in Corpus : 25\n"
     ]
    }
   ],
   "source": [
    "# Building Corpus\n",
    "corpus = []\n",
    "\n",
    "for s in doc.sents:\n",
    "    corpus.append(s.text.lower())\n",
    "print('Number of Sentences in Corpus : ' + str(len(corpus)))"
   ]
  },
  {
   "cell_type": "markdown",
   "metadata": {},
   "source": [
    "## Generation of BOW (Bag Of Words) & Word Frequencies\n",
    "In this section, we generate a BOW, which helps us to gather the frequency of word appearences in the entire corpus. After the BOW is generated, the sum is taken across the columns to generate frequency of words in the corpus. \n",
    "<br>Once the frequencies are generated, the most occuring words are listed which have top 5 most occuring frequencies, and the frequencies are normalised with respect to the highest frequency in the corpus."
   ]
  },
  {
   "cell_type": "code",
   "execution_count": 7,
   "metadata": {},
   "outputs": [],
   "source": [
    "# Applying Count Vectorizer To Corpus\n",
    "cv = CountVectorizer(stop_words=list(STOP_WORDS))\n",
    "cv_fit = cv.fit_transform(corpus)"
   ]
  },
  {
   "cell_type": "code",
   "execution_count": 8,
   "metadata": {},
   "outputs": [],
   "source": [
    "# Getting Word List from Count Vectorizer\n",
    "word_list = cv.get_feature_names()\n",
    "\n",
    "# Getting Sum of Word Occurences\n",
    "word_counts = cv_fit.toarray().sum(axis=0)\n",
    "\n",
    "# Creating Dictionary for Words and Occurences\n",
    "word_freq_dict = dict(zip(word_list, word_counts))"
   ]
  },
  {
   "cell_type": "code",
   "execution_count": 9,
   "metadata": {},
   "outputs": [],
   "source": [
    "# Sorting Word Counts in Descending Order\n",
    "sort_word_counts = sorted(word_freq_dict.values(), reverse=True)\n",
    "# Getting Higher Freqeuncy Words\n",
    "higher_frequency_words = []\n",
    "# Words With Top 5 Frequency are considered as Higher Frequency Words\n",
    "for word, freq in word_freq_dict.items():\n",
    "    if freq in sort_word_counts[0:5]:\n",
    "        higher_frequency_words.append(word)"
   ]
  },
  {
   "cell_type": "code",
   "execution_count": 10,
   "metadata": {},
   "outputs": [
    {
     "name": "stdout",
     "output_type": "stream",
     "text": [
      "Most Frequently Occurring Words In Text\n",
      "cell\n",
      "genetic\n",
      "infecting\n",
      "life\n",
      "viral\n",
      "virus\n",
      "viruses\n"
     ]
    }
   ],
   "source": [
    "print('Most Frequently Occurring Words In Text')\n",
    "for word in higher_frequency_words:\n",
    "    print(word)"
   ]
  },
  {
   "cell_type": "code",
   "execution_count": 11,
   "metadata": {},
   "outputs": [],
   "source": [
    "# Scaling The Frequency Of Words With Relative To Highest Frequency\n",
    "for word in word_freq_dict.keys():\n",
    "    word_freq_dict[word] = word_freq_dict[word]/sort_word_counts[0]"
   ]
  },
  {
   "cell_type": "markdown",
   "metadata": {},
   "source": [
    "## Assignment of Ranks to Sentences\n",
    "The sentences are assigned ranks on the number of higher frequencies words occuring in the sentences. The sentence has a higher rank, if there are more higher frequency words, and lower rank if there are fewer higher frequency words.<br>\n",
    "The sentence ranks are assigned based on their scores, which is calculated by sum of the normalised frequency score of the words in the sentence.<br>\n",
    "The sum is not calculated using increment methodology, as the sum of frequency accurately incorporates the importance of the words in the sentence."
   ]
  },
  {
   "cell_type": "code",
   "execution_count": 12,
   "metadata": {},
   "outputs": [],
   "source": [
    "# Assigning Ranks To Sentences\n",
    "sentence_ranks = {}\n",
    "\n",
    "for sentence in doc.sents:\n",
    "    for word in sentence:\n",
    "        if word.text.lower() in word_freq_dict.keys():\n",
    "            if sentence in sentence_ranks.keys():\n",
    "                sentence_ranks[sentence] += word_freq_dict[word.text.lower()]\n",
    "            else:\n",
    "                sentence_ranks[sentence] = word_freq_dict[word.text.lower()]\n",
    "\n",
    "# Sorting Sentences According To Ranks\n",
    "sorted_sentences = sorted(sentence_ranks.items(), key=lambda x: x[1], reverse=True)"
   ]
  },
  {
   "cell_type": "markdown",
   "metadata": {},
   "source": [
    "## Generation of Summary\n",
    "The final summary is generated by selecting the desired number of sentences from the sorted sentences based on their rank."
   ]
  },
  {
   "cell_type": "code",
   "execution_count": 13,
   "metadata": {},
   "outputs": [],
   "source": [
    "number_of_sentences = 6\n",
    "final_para = \"\"\n",
    "\n",
    "for i in range(0, number_of_sentences):\n",
    "    sentence_tuple = sorted_sentences[i]\n",
    "    final_para = final_para + sentence_tuple[0].text"
   ]
  },
  {
   "cell_type": "code",
   "execution_count": 14,
   "metadata": {},
   "outputs": [
    {
     "data": {
      "text/plain": [
       "\"When not inside an infected cell or in the process of infecting a cell, viruses exist in the form of independent particles, or virions, consisting of: (i) the genetic material, i.e., long molecules of DNA or RNA that encode the structure of the proteins by which the virus acts; (ii) a protein coat, the capsid, which surrounds and protects the genetic material; and in some cases (iii) an outside envelope of lipids.Since Dmitri Ivanovsky's 1892 article describing a non-bacterial pathogen infecting tobacco plants and the discovery of the tobacco mosaic virus by Martinus Beijerinck in 1898, more than 6,000 virus species have been described in detail of the millions of types of viruses in the environment.One transmission pathway is through disease-bearing organisms known as vectors: for example, viruses are often transmitted from plant to plant by insects that feed on plant sap, such as aphids; and viruses in animals can be carried by blood-sucking insects.Viruses are considered by some biologists to be a life form, because they carry genetic material, reproduce, and evolve through natural selection, although they lack the key characteristics, such as cell structure, that are generally considered necessary criteria for life.Viruses infect all types of life forms, from animals and plants to microorganisms, including bacteria and archaea.Some viruses, including those that cause AIDS, HPV infection, and viral hepatitis, evade these immune responses and result in chronic infections.\""
      ]
     },
     "execution_count": 14,
     "metadata": {},
     "output_type": "execute_result"
    }
   ],
   "source": [
    "final_para"
   ]
  },
  {
   "cell_type": "markdown",
   "metadata": {},
   "source": [
    "## Computing Rouge Scores"
   ]
  },
  {
   "cell_type": "code",
   "execution_count": 15,
   "metadata": {},
   "outputs": [],
   "source": [
    "# Initializing Rouge Scorer Object\n",
    "rscorer = rouge_scorer.RougeScorer(['rouge1', 'rouge2', 'rouge3'], use_stemmer=True)"
   ]
  },
  {
   "cell_type": "code",
   "execution_count": 16,
   "metadata": {},
   "outputs": [],
   "source": [
    "r_scores = rscorer.score(paragraph, final_para)"
   ]
  },
  {
   "cell_type": "code",
   "execution_count": 17,
   "metadata": {},
   "outputs": [
    {
     "name": "stdout",
     "output_type": "stream",
     "text": [
      "Rouge 1: Score(precision=1.0, recall=0.4205933682373473, fmeasure=0.5921375921375921)\n",
      "Rouge 2: Score(precision=0.9791666666666666, recall=0.41083916083916083, fmeasure=0.5788177339901478)\n",
      "Rouge 3: Score(precision=0.9581589958158996, recall=0.4010507880910683, fmeasure=0.5654320987654321)\n"
     ]
    }
   ],
   "source": [
    "# Printing Scores\n",
    "print('Rouge 1:', r_scores['rouge1'])\n",
    "print('Rouge 2:', r_scores['rouge2'])\n",
    "print('Rouge 3:', r_scores['rouge3'])"
   ]
  }
 ],
 "metadata": {
  "kernelspec": {
   "display_name": "Python 3",
   "language": "python",
   "name": "python3"
  },
  "language_info": {
   "codemirror_mode": {
    "name": "ipython",
    "version": 3
   },
   "file_extension": ".py",
   "mimetype": "text/x-python",
   "name": "python",
   "nbconvert_exporter": "python",
   "pygments_lexer": "ipython3",
   "version": "3.7.9"
  }
 },
 "nbformat": 4,
 "nbformat_minor": 4
}
